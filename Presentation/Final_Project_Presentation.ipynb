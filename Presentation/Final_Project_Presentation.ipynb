{
 "cells": [
  {
   "cell_type": "markdown",
   "metadata": {},
   "source": [
    "# Bird or Plane?\n",
    "## A Machine Learning Approach to Image Classification"
   ]
  },
  {
   "cell_type": "markdown",
   "metadata": {},
   "source": [
    "### Building the Model"
   ]
  },
  {
   "cell_type": "code",
   "execution_count": null,
   "metadata": {},
   "outputs": [],
   "source": [
    "# Import Dependecies for Classifier Model\n",
    "\n",
    "from keras.models import Sequential\n",
    "from keras.layers import Conv2D\n",
    "from keras.layers import MaxPooling2D\n",
    "from keras.layers import Flatten\n",
    "from keras.layers import Dense\n",
    "\n",
    "import warnings\n",
    "warnings.filterwarnings('ignore')"
   ]
  },
  {
   "cell_type": "code",
   "execution_count": null,
   "metadata": {},
   "outputs": [],
   "source": [
    "# Use Sequential Model\n",
    "classifier = Sequential()\n",
    "\n",
    "# Use 32 3x3 filters on image to find \"edges\"\n",
    "# input images will be 64x64 pixels, RGB\n",
    "classifier.add(Conv2D(32, (3, 3), input_shape = (64, 64, 3), activation = 'relu'))\n",
    "\n",
    "# Use 2x2 matrix in pooling\n",
    "classifier.add(MaxPooling2D(pool_size = (2, 2)))\n",
    "\n",
    "# Flattens array into 1 dimensional array\n",
    "classifier.add(Flatten())\n",
    "\n",
    "# Add 128 nodes\n",
    "classifier.add(Dense(units = 128, activation = 'relu'))\n",
    "\n",
    "# Add output layer\n",
    "# Binary output: either a bird or a plane\n",
    "classifier.add(Dense(units = 1, activation = 'sigmoid'))"
   ]
  },
  {
   "cell_type": "code",
   "execution_count": null,
   "metadata": {},
   "outputs": [],
   "source": [
    "# Compile Model\n",
    "classifier.compile(optimizer = 'adam', loss = 'binary_crossentropy', metrics = ['accuracy'])"
   ]
  },
  {
   "cell_type": "code",
   "execution_count": null,
   "metadata": {},
   "outputs": [],
   "source": [
    "from keras.preprocessing import image\n",
    "from keras.preprocessing.image import ImageDataGenerator\n",
    "\n",
    "# We use the ImageDataGenerator class from keras\n",
    "\n",
    "# Rescale simplifies RBG values from between 0-255 to either 1 or 0\n",
    "images = ImageDataGenerator(rescale = 1./255,                     \n",
    "shear_range = 0.2,                        \n",
    "zoom_range = 0.2,\n",
    "horizontal_flip = True,\n",
    "validation_split=0.2)\n",
    "\n",
    "training_set = images.flow_from_directory('images',\n",
    "target_size = (64, 64),\n",
    "class_mode = 'binary',\n",
    "subset='training')\n",
    "\n",
    "validation_set = images.flow_from_directory('images',\n",
    "target_size = (64, 64),\n",
    "class_mode = 'binary',\n",
    "subset='validation')\n"
   ]
  },
  {
   "cell_type": "code",
   "execution_count": null,
   "metadata": {},
   "outputs": [],
   "source": [
    "classifier.fit_generator(training_set,\n",
    "steps_per_epoch = training_set.samples,\n",
    "epochs = 1,\n",
    "validation_data = validation_set,\n",
    "validation_steps = validation_set.samples)"
   ]
  },
  {
   "cell_type": "markdown",
   "metadata": {},
   "source": [
    "## Model Testing"
   ]
  },
  {
   "cell_type": "code",
   "execution_count": null,
   "metadata": {},
   "outputs": [],
   "source": [
    "# Save created Model\n",
    "print(\"Name of Model?\")\n",
    "filename = input()\n",
    "classifier.save(filename + \".h5\")"
   ]
  },
  {
   "cell_type": "code",
   "execution_count": null,
   "metadata": {},
   "outputs": [],
   "source": [
    "from tensorflow.keras.models import load_model\n",
    "\n",
    "# Load premade model\n",
    "print(\"Name of file to load?\")\n",
    "fileToLoad = input()\n",
    "classifier = load_model(fileToLoad + \".h5\")"
   ]
  },
  {
   "cell_type": "code",
   "execution_count": null,
   "metadata": {},
   "outputs": [],
   "source": [
    "import pandas as pd\n",
    "df = pd.DataFrame(columns = [\"Image_Name\",\"Image_Identiy\",\"Model_Prediction\"])"
   ]
  },
  {
   "cell_type": "code",
   "execution_count": null,
   "metadata": {},
   "outputs": [],
   "source": [
    "import numpy as np\n",
    "import glob\n",
    "from IPython.display import Image, display\n",
    "\n",
    "# Present test images for classification\n",
    "# Assume .jpg\n",
    "for imageName in glob.glob('*.JPG'):\n",
    "    test_image = image.load_img(imageName, target_size = (64, 64))\n",
    "    test_image = image.img_to_array(test_image)\n",
    "    test_image = np.expand_dims(test_image, axis = 0)\n",
    "    result = classifier.predict(test_image)\n",
    "    training_set.class_indices\n",
    "    if result[0][0] == 0:\n",
    "        prediction = 'Bird'\n",
    "    else:\n",
    "        prediction = 'Plane'\n",
    "    \n",
    "    # Display Image and request actual image identity\n",
    "    display(Image(filename=imageName,width=250, height=250))\n",
    "    print(f'Model Prediction: {prediction}')\n",
    "    print(\"Is the prediction correct? y/n\")\n",
    "    correct = input()\n",
    "    if prediction == 'Bird':\n",
    "        if correct == \"y\":\n",
    "            actual = prediction\n",
    "        else:\n",
    "            actual = 'Plane'\n",
    "    else:\n",
    "        if correct == \"y\":\n",
    "            actual = prediction\n",
    "        else:\n",
    "            actual = 'Bird'\n",
    "            \n",
    "    # Append data to dataFrame\n",
    "    df = df.append({'Image_Name': imageName, 'Image_Identiy': actual, 'Model_Prediction': prediction}, ignore_index=True)\n",
    "    "
   ]
  },
  {
   "cell_type": "code",
   "execution_count": null,
   "metadata": {},
   "outputs": [],
   "source": [
    "df.head(15)"
   ]
  },
  {
   "cell_type": "code",
   "execution_count": null,
   "metadata": {},
   "outputs": [],
   "source": [
    "print(\"Name of output csv?\")\n",
    "csvSaveFilename = input()\n",
    "df.to_csv(\"Output/\" + csvSaveFilename + \".csv\", index=False, header=True)"
   ]
  },
  {
   "cell_type": "code",
   "execution_count": null,
   "metadata": {},
   "outputs": [],
   "source": []
  }
 ],
 "metadata": {
  "kernelspec": {
   "display_name": "Python 3",
   "language": "python",
   "name": "python3"
  },
  "language_info": {
   "codemirror_mode": {
    "name": "ipython",
    "version": 3
   },
   "file_extension": ".py",
   "mimetype": "text/x-python",
   "name": "python",
   "nbconvert_exporter": "python",
   "pygments_lexer": "ipython3",
   "version": "3.7.3"
  }
 },
 "nbformat": 4,
 "nbformat_minor": 2
}
